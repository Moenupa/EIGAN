{
 "cells": [
  {
   "cell_type": "markdown",
   "metadata": {},
   "source": [
    "---\n",
    "---\n",
    "## Training and Evaluating Generative Adversarial Network on Generated MCMC Samples\n",
    "---\n",
    "---\n",
    "This notebook contains examples of the following:\n",
    "1. Train a Wasserstein GAN on MCMC Sampling results\n",
    "2. Use the train model to generate samples from the learned distribution\n",
    "3. Evalute the trained models on several distribution metrics."
   ]
  },
  {
   "cell_type": "markdown",
   "metadata": {},
   "source": [
    "#### Enviornment Setup\n",
    "\n",
    "You may refer to reqirement.txt for specific package versions."
   ]
  },
  {
   "cell_type": "code",
   "execution_count": 1,
   "metadata": {},
   "outputs": [],
   "source": [
    "import torch\n",
    "from torch.utils.data import Dataset, DataLoader\n",
    "import numpy as np\n",
    "import pickle\n",
    "import wandb\n",
    "\n",
    "from process_data import Africa_Whole_Flat,MinMaxScaler\n",
    "from generative_model import WGAN_SIMPLE"
   ]
  },
  {
   "cell_type": "markdown",
   "metadata": {},
   "source": [
    "---\n",
    "---\n",
    "## Part 1. Model Training\n",
    "---\n",
    "---"
   ]
  },
  {
   "cell_type": "markdown",
   "metadata": {},
   "source": [
    "#### Model inputs\n",
    "\n",
    "**Note: This step is quite labor intensive, it is recommended to train on a GPU and not on Colab, skip to Part 2 if you only wish to generate samples from pretrained model.**\n",
    "\n",
    "Lets define some inputs for the model training:\n",
    "- dataroot - the path to the root of the dataset\n",
    "- savepath - save path for trianed model check points\n",
    "- workers - the number of worker threads for loading the data with the DataLoader\n",
    "- batch_size - the batch size used in training. \n",
    "- num_epochs - number of training epochs to run. Training for longer will probably lead to better results but will also take much longer\n",
    "- lr - learning rate for training.\n",
    "- beta1 - beta1 hyperparameter for Adam optimizers.\n"
   ]
  },
  {
   "cell_type": "code",
   "execution_count": 5,
   "metadata": {},
   "outputs": [],
   "source": [
    "dataroot = './data/Rayleigh_P30_downsampled_flat_extended.csv'\n",
    "savepath = \"./model\"\n",
    "workers = 1\n",
    "batch_size = 128\n",
    "num_epochs = 200\n",
    "lr = 0.0002\n",
    "beta1 = 0.5\n",
    "device = torch.device(\"cuda:0\" if (torch.cuda.is_available()) else \"cpu\")"
   ]
  },
  {
   "cell_type": "markdown",
   "metadata": {},
   "source": [
    "#### Load the data"
   ]
  },
  {
   "cell_type": "code",
   "execution_count": 7,
   "metadata": {},
   "outputs": [],
   "source": [
    "data = np.genfromtxt('./data/Rayleigh_P30_downsampled_flat_extended.csv', delimiter=',', skip_header=True)"
   ]
  },
  {
   "cell_type": "markdown",
   "metadata": {},
   "source": [
    "#### Initialize Model and Start Training"
   ]
  },
  {
   "cell_type": "code",
   "execution_count": null,
   "metadata": {},
   "outputs": [],
   "source": [
    "model = WGAN_SIMPLE(ndim=data.shape[1],device=device)\n",
    "\n",
    "model.optimize(data,output_path=savepath,use_wandb=False,batch_size=batch_size,\n",
    "               epochs=num_epochs,lr=lr,beta1=beta1,device=device)"
   ]
  },
  {
   "cell_type": "markdown",
   "metadata": {},
   "source": [
    "---\n",
    "---\n",
    "## Part 2. Load Trained Model and Produce Samples\n",
    "---\n",
    "---"
   ]
  },
  {
   "cell_type": "code",
   "execution_count": 2,
   "metadata": {},
   "outputs": [],
   "source": [
    "# load the saved model file\n",
    "checkpoint = torch.load(\"output/R10P/model/model_epoch0_EMD0.182109.pth\")\n",
    "model = WGAN_SIMPLE(ndim=checkpoint[\"ndim\"])\n",
    "model.load(checkpoint)"
   ]
  },
  {
   "cell_type": "code",
   "execution_count": 3,
   "metadata": {},
   "outputs": [],
   "source": [
    "fake_data = model.generate()"
   ]
  },
  {
   "cell_type": "markdown",
   "metadata": {},
   "source": [
    "---\n",
    "---\n",
    "## Visualization of the Generated Distribution\n",
    "---\n",
    "---"
   ]
  }
 ],
 "metadata": {
  "interpreter": {
   "hash": "70a0b69807cffc7f68f29a6af6c79180c09d82f3398826ced6c3051abc934f1c"
  },
  "kernelspec": {
   "display_name": "Python 3 (ipykernel)",
   "language": "python",
   "name": "python3"
  },
  "language_info": {
   "codemirror_mode": {
    "name": "ipython",
    "version": 3
   },
   "file_extension": ".py",
   "mimetype": "text/x-python",
   "name": "python",
   "nbconvert_exporter": "python",
   "pygments_lexer": "ipython3",
   "version": "3.8.18"
  }
 },
 "nbformat": 4,
 "nbformat_minor": 4
}
